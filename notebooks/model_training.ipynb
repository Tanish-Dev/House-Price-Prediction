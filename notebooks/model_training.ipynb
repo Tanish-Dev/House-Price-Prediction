{
 "cells": [
  {
   "cell_type": "code",
   "execution_count": 4,
   "metadata": {},
   "outputs": [
    {
     "name": "stderr",
     "output_type": "stream",
     "text": [
      "/var/folders/kg/zkpdn5sn6gl4h7bgz5d34jgm0000gq/T/ipykernel_49036/1921907442.py:18: FutureWarning: A value is trying to be set on a copy of a DataFrame or Series through chained assignment using an inplace method.\n",
      "The behavior will change in pandas 3.0. This inplace method will never work because the intermediate object on which we are setting values always behaves as a copy.\n",
      "\n",
      "For example, when doing 'df[col].method(value, inplace=True)', try using 'df.method({col: value}, inplace=True)' or df[col] = df[col].method(value) instead, to perform the operation inplace on the original object.\n",
      "\n",
      "\n",
      "  df[\"bath\"].fillna(df[\"bath\"].median(), inplace=True)\n",
      "/var/folders/kg/zkpdn5sn6gl4h7bgz5d34jgm0000gq/T/ipykernel_49036/1921907442.py:19: FutureWarning: A value is trying to be set on a copy of a DataFrame or Series through chained assignment using an inplace method.\n",
      "The behavior will change in pandas 3.0. This inplace method will never work because the intermediate object on which we are setting values always behaves as a copy.\n",
      "\n",
      "For example, when doing 'df[col].method(value, inplace=True)', try using 'df.method({col: value}, inplace=True)' or df[col] = df[col].method(value) instead, to perform the operation inplace on the original object.\n",
      "\n",
      "\n",
      "  df[\"balcony\"].fillna(df[\"balcony\"].median(), inplace=True)\n"
     ]
    },
    {
     "name": "stdout",
     "output_type": "stream",
     "text": [
      "Model training complete. Saved as house_price_model.pkl\n"
     ]
    }
   ],
   "source": [
    "import pandas as pd\n",
    "import numpy as np\n",
    "import pickle\n",
    "from sklearn.model_selection import train_test_split\n",
    "from sklearn.preprocessing import OneHotEncoder, StandardScaler\n",
    "from sklearn.pipeline import Pipeline\n",
    "from sklearn.compose import ColumnTransformer\n",
    "from sklearn.impute import SimpleImputer\n",
    "from sklearn.ensemble import RandomForestRegressor\n",
    "\n",
    "# Load dataset\n",
    "df = pd.read_csv(\"/Users/Tanish/Documents/House Price Prediction/data/Pune_House_Data.csv\")\n",
    "\n",
    "# Drop columns with too many missing values\n",
    "df.drop(columns=[\"society\"], inplace=True)  # Too many NaNs\n",
    "\n",
    "# Fill missing values\n",
    "df[\"bath\"].fillna(df[\"bath\"].median(), inplace=True)\n",
    "df[\"balcony\"].fillna(df[\"balcony\"].median(), inplace=True)\n",
    "df.dropna(subset=[\"size\", \"site_location\"], inplace=True)\n",
    "\n",
    "# Convert 'size' (e.g., \"2 BHK\") to integer number of bedrooms\n",
    "df[\"BHK\"] = df[\"size\"].apply(lambda x: int(str(x).split(\" \")[0]))\n",
    "df.drop(columns=[\"size\"], inplace=True)\n",
    "\n",
    "# Convert 'total_sqft' to a numeric value\n",
    "def convert_sqft(value):\n",
    "    try:\n",
    "        if '-' in value:  # If range, take average\n",
    "            sqft_range = list(map(float, value.split('-')))\n",
    "            return np.mean(sqft_range)\n",
    "        elif value.isnumeric():\n",
    "            return float(value)\n",
    "        else:\n",
    "            return np.nan  # Handle unexpected cases\n",
    "    except:\n",
    "        return np.nan\n",
    "\n",
    "df[\"total_sqft\"] = df[\"total_sqft\"].apply(convert_sqft)\n",
    "df.dropna(subset=[\"total_sqft\"], inplace=True)\n",
    "\n",
    "# Select features and target\n",
    "features = [\"total_sqft\", \"bath\", \"balcony\", \"BHK\", \"area_type\", \"site_location\"]\n",
    "target = \"price\"\n",
    "X = df[features]\n",
    "y = df[target]\n",
    "\n",
    "# Define preprocessing pipeline\n",
    "num_features = [\"total_sqft\", \"bath\", \"balcony\", \"BHK\"]\n",
    "cat_features = [\"area_type\", \"site_location\"]\n",
    "\n",
    "num_pipeline = Pipeline([\n",
    "    (\"imputer\", SimpleImputer(strategy=\"median\")),\n",
    "    (\"scaler\", StandardScaler())\n",
    "])\n",
    "\n",
    "cat_pipeline = Pipeline([\n",
    "    (\"encoder\", OneHotEncoder(handle_unknown=\"ignore\"))\n",
    "])\n",
    "\n",
    "preprocessor = ColumnTransformer([\n",
    "    (\"num\", num_pipeline, num_features),\n",
    "    (\"cat\", cat_pipeline, cat_features)\n",
    "])\n",
    "\n",
    "# Define model pipeline\n",
    "model = Pipeline([\n",
    "    (\"preprocessor\", preprocessor),\n",
    "    (\"regressor\", RandomForestRegressor(n_estimators=100, random_state=42))\n",
    "])\n",
    "\n",
    "# Split data\n",
    "X_train, X_test, y_train, y_test = train_test_split(X, y, test_size=0.2, random_state=42)\n",
    "\n",
    "# Train model\n",
    "model.fit(X_train, y_train)\n",
    "\n",
    "# Save model\n",
    "with open(\"house_price_model.pkl\", \"wb\") as f:\n",
    "    pickle.dump(model, f)\n",
    "\n",
    "print(\"Model training complete. Saved as house_price_model.pkl\")\n"
   ]
  },
  {
   "cell_type": "code",
   "execution_count": 7,
   "metadata": {},
   "outputs": [
    {
     "name": "stdout",
     "output_type": "stream",
     "text": [
      "[59.66811667]\n"
     ]
    }
   ],
   "source": [
    "import pickle\n",
    "model = pickle.load(open('/Users/Tanish/Documents/House Price Prediction/models/house_price_model.pkl', 'rb'))\n",
    "\n",
    "# Create a DataFrame with the same structure as the training data\n",
    "input_data = pd.DataFrame([[1200, 2, 1, 2, 'Built-up  Area', 'Wakad']], columns=features)\n",
    "\n",
    "# Make predictions\n",
    "pred = model.predict(input_data)\n",
    "print(pred)"
   ]
  },
  {
   "cell_type": "markdown",
   "metadata": {},
   "source": []
  },
  {
   "cell_type": "code",
   "execution_count": null,
   "metadata": {},
   "outputs": [],
   "source": []
  }
 ],
 "metadata": {
  "kernelspec": {
   "display_name": "Python 3",
   "language": "python",
   "name": "python3"
  },
  "language_info": {
   "codemirror_mode": {
    "name": "ipython",
    "version": 3
   },
   "file_extension": ".py",
   "mimetype": "text/x-python",
   "name": "python",
   "nbconvert_exporter": "python",
   "pygments_lexer": "ipython3",
   "version": "3.11.3"
  }
 },
 "nbformat": 4,
 "nbformat_minor": 2
}
